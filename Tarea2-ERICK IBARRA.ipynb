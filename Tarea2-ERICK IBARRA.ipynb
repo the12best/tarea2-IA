{
  "cells": [
    {
      "cell_type": "markdown",
      "id": "062d4d7a",
      "metadata": {
        "id": "062d4d7a"
      },
      "source": [
        "## Bienvenidos a Titanic Spaceship\n",
        "\n",
        "Titanic Spaceship es un dataset de ejemplo creado para trabajar modelos de machine learning.  El dataset tiene diferentes columnas que informan practicamente la persona de que planeta se originio y hacia donde se dirigio.  El resultado es si la persona fue transportada o no."
      ]
    },
    {
      "cell_type": "markdown",
      "id": "c26f5603",
      "metadata": {
        "id": "c26f5603"
      },
      "source": [
        "##### Importacion de librerias\n",
        "\n",
        "Importe las librerias iniciales para procesamiento de datos y de descompresion de archivos"
      ]
    },
    {
      "cell_type": "code",
      "execution_count": 6,
      "id": "6087cd49",
      "metadata": {
        "id": "6087cd49"
      },
      "outputs": [],
      "source": [
        "#importe la librerias pandas como pd\n",
        "import pandas as pd\n",
        "#importe ZipFile de la libreria zipfile\n",
        "from zipfile import ZipFile\n"
      ]
    },
    {
      "cell_type": "code",
      "execution_count": 7,
      "id": "ad9b8d60",
      "metadata": {
        "colab": {
          "base_uri": "https://localhost:8080/",
          "height": 217
        },
        "id": "ad9b8d60",
        "outputId": "e1137452-eeb5-4a8e-d979-f94b5225ff28"
      },
      "outputs": [
        {
          "output_type": "error",
          "ename": "FileNotFoundError",
          "evalue": "ignored",
          "traceback": [
            "\u001b[0;31m---------------------------------------------------------------------------\u001b[0m",
            "\u001b[0;31mFileNotFoundError\u001b[0m                         Traceback (most recent call last)",
            "\u001b[0;32m<ipython-input-7-32412af7ae1c>\u001b[0m in \u001b[0;36m<cell line: 5>\u001b[0;34m()\u001b[0m\n\u001b[1;32m      3\u001b[0m \u001b[0;34m\u001b[0m\u001b[0m\n\u001b[1;32m      4\u001b[0m \u001b[0mruta\u001b[0m \u001b[0;34m=\u001b[0m \u001b[0;34m'/content/drive/MyDrive/Colab Notebooks/tarea2'\u001b[0m\u001b[0;34m\u001b[0m\u001b[0;34m\u001b[0m\u001b[0m\n\u001b[0;32m----> 5\u001b[0;31m \u001b[0marchivos\u001b[0m \u001b[0;34m=\u001b[0m \u001b[0mos\u001b[0m\u001b[0;34m.\u001b[0m\u001b[0mlistdir\u001b[0m\u001b[0;34m(\u001b[0m\u001b[0mruta\u001b[0m\u001b[0;34m)\u001b[0m\u001b[0;34m\u001b[0m\u001b[0;34m\u001b[0m\u001b[0m\n\u001b[0m\u001b[1;32m      6\u001b[0m \u001b[0mprint\u001b[0m\u001b[0;34m(\u001b[0m\u001b[0marchivos\u001b[0m\u001b[0;34m)\u001b[0m\u001b[0;34m\u001b[0m\u001b[0;34m\u001b[0m\u001b[0m\n",
            "\u001b[0;31mFileNotFoundError\u001b[0m: [Errno 2] No such file or directory: '/content/drive/MyDrive/Colab Notebooks/tarea2'"
          ]
        }
      ],
      "source": [
        "# observamos los archivos que estan en esta carpeta\n",
        "import os\n",
        "\n",
        "ruta = '/content/drive/MyDrive/Colab Notebooks/tarea2'\n",
        "archivos = os.listdir(ruta)\n",
        "print(archivos)\n"
      ]
    },
    {
      "cell_type": "code",
      "execution_count": null,
      "id": "da08f890",
      "metadata": {
        "id": "da08f890"
      },
      "outputs": [],
      "source": [
        "# funcion utilitaria para extraer data\n",
        "def unzip_data(path):\n",
        "    with ZipFile(path, 'r') as zipObj:\n",
        "        zipObj.extractall()"
      ]
    },
    {
      "cell_type": "markdown",
      "id": "2e3a83e4",
      "metadata": {
        "id": "2e3a83e4"
      },
      "source": [
        "Llamando a la funcion anterior e ingresando el archivo zip los podemos descomprimir programaticamente"
      ]
    },
    {
      "cell_type": "code",
      "execution_count": 6,
      "id": "1d74918b",
      "metadata": {
        "id": "1d74918b"
      },
      "outputs": [],
      "source": [
        "from zipfile import ZipFile\n",
        "\n",
        "# Función utilitaria para extraer data\n",
        "def unzip_data(path):\n",
        "    with ZipFile(path, 'r') as zipObj:\n",
        "        zipObj.extractall()\n",
        "\n",
        "# Ruta del archivo zip\n",
        "ruta_zip = \"/content/drive/MyDrive/Colab Notebooks/tarea2/spaceship-titanic.zip\"\n",
        "\n",
        "# Descomprimir el archivo zip\n",
        "unzip_data(ruta_zip)\n"
      ]
    },
    {
      "cell_type": "markdown",
      "id": "e8d4b085",
      "metadata": {
        "id": "e8d4b085"
      },
      "source": [
        "Ahora utilizando la función read_csv podemos leer tanto el archivo de training como el de test set"
      ]
    },
    {
      "cell_type": "code",
      "execution_count": 5,
      "id": "0776a836",
      "metadata": {
        "colab": {
          "base_uri": "https://localhost:8080/",
          "height": 380
        },
        "id": "0776a836",
        "outputId": "dd1f5cbd-66ef-40ea-df7f-af487a4a94b5"
      },
      "outputs": [
        {
          "output_type": "error",
          "ename": "FileNotFoundError",
          "evalue": "ignored",
          "traceback": [
            "\u001b[0;31m---------------------------------------------------------------------------\u001b[0m",
            "\u001b[0;31mFileNotFoundError\u001b[0m                         Traceback (most recent call last)",
            "\u001b[0;32m<ipython-input-5-51334b02b2c3>\u001b[0m in \u001b[0;36m<cell line: 9>\u001b[0;34m()\u001b[0m\n\u001b[1;32m      7\u001b[0m \u001b[0;34m\u001b[0m\u001b[0m\n\u001b[1;32m      8\u001b[0m \u001b[0;31m# Leer los archivos CSV y crear los DataFrames\u001b[0m\u001b[0;34m\u001b[0m\u001b[0;34m\u001b[0m\u001b[0m\n\u001b[0;32m----> 9\u001b[0;31m \u001b[0mtrain_ds\u001b[0m \u001b[0;34m=\u001b[0m \u001b[0mpd\u001b[0m\u001b[0;34m.\u001b[0m\u001b[0mread_csv\u001b[0m\u001b[0;34m(\u001b[0m\u001b[0mruta_train\u001b[0m\u001b[0;34m)\u001b[0m\u001b[0;34m\u001b[0m\u001b[0;34m\u001b[0m\u001b[0m\n\u001b[0m\u001b[1;32m     10\u001b[0m \u001b[0mtest_ds\u001b[0m \u001b[0;34m=\u001b[0m \u001b[0mpd\u001b[0m\u001b[0;34m.\u001b[0m\u001b[0mread_csv\u001b[0m\u001b[0;34m(\u001b[0m\u001b[0mruta_test\u001b[0m\u001b[0;34m)\u001b[0m\u001b[0;34m\u001b[0m\u001b[0;34m\u001b[0m\u001b[0m\n",
            "\u001b[0;32m/usr/local/lib/python3.10/dist-packages/pandas/util/_decorators.py\u001b[0m in \u001b[0;36mwrapper\u001b[0;34m(*args, **kwargs)\u001b[0m\n\u001b[1;32m    209\u001b[0m                 \u001b[0;32melse\u001b[0m\u001b[0;34m:\u001b[0m\u001b[0;34m\u001b[0m\u001b[0;34m\u001b[0m\u001b[0m\n\u001b[1;32m    210\u001b[0m                     \u001b[0mkwargs\u001b[0m\u001b[0;34m[\u001b[0m\u001b[0mnew_arg_name\u001b[0m\u001b[0;34m]\u001b[0m \u001b[0;34m=\u001b[0m \u001b[0mnew_arg_value\u001b[0m\u001b[0;34m\u001b[0m\u001b[0;34m\u001b[0m\u001b[0m\n\u001b[0;32m--> 211\u001b[0;31m             \u001b[0;32mreturn\u001b[0m \u001b[0mfunc\u001b[0m\u001b[0;34m(\u001b[0m\u001b[0;34m*\u001b[0m\u001b[0margs\u001b[0m\u001b[0;34m,\u001b[0m \u001b[0;34m**\u001b[0m\u001b[0mkwargs\u001b[0m\u001b[0;34m)\u001b[0m\u001b[0;34m\u001b[0m\u001b[0;34m\u001b[0m\u001b[0m\n\u001b[0m\u001b[1;32m    212\u001b[0m \u001b[0;34m\u001b[0m\u001b[0m\n\u001b[1;32m    213\u001b[0m         \u001b[0;32mreturn\u001b[0m \u001b[0mcast\u001b[0m\u001b[0;34m(\u001b[0m\u001b[0mF\u001b[0m\u001b[0;34m,\u001b[0m \u001b[0mwrapper\u001b[0m\u001b[0;34m)\u001b[0m\u001b[0;34m\u001b[0m\u001b[0;34m\u001b[0m\u001b[0m\n",
            "\u001b[0;32m/usr/local/lib/python3.10/dist-packages/pandas/util/_decorators.py\u001b[0m in \u001b[0;36mwrapper\u001b[0;34m(*args, **kwargs)\u001b[0m\n\u001b[1;32m    329\u001b[0m                     \u001b[0mstacklevel\u001b[0m\u001b[0;34m=\u001b[0m\u001b[0mfind_stack_level\u001b[0m\u001b[0;34m(\u001b[0m\u001b[0;34m)\u001b[0m\u001b[0;34m,\u001b[0m\u001b[0;34m\u001b[0m\u001b[0;34m\u001b[0m\u001b[0m\n\u001b[1;32m    330\u001b[0m                 )\n\u001b[0;32m--> 331\u001b[0;31m             \u001b[0;32mreturn\u001b[0m \u001b[0mfunc\u001b[0m\u001b[0;34m(\u001b[0m\u001b[0;34m*\u001b[0m\u001b[0margs\u001b[0m\u001b[0;34m,\u001b[0m \u001b[0;34m**\u001b[0m\u001b[0mkwargs\u001b[0m\u001b[0;34m)\u001b[0m\u001b[0;34m\u001b[0m\u001b[0;34m\u001b[0m\u001b[0m\n\u001b[0m\u001b[1;32m    332\u001b[0m \u001b[0;34m\u001b[0m\u001b[0m\n\u001b[1;32m    333\u001b[0m         \u001b[0;31m# error: \"Callable[[VarArg(Any), KwArg(Any)], Any]\" has no\u001b[0m\u001b[0;34m\u001b[0m\u001b[0;34m\u001b[0m\u001b[0m\n",
            "\u001b[0;32m/usr/local/lib/python3.10/dist-packages/pandas/io/parsers/readers.py\u001b[0m in \u001b[0;36mread_csv\u001b[0;34m(filepath_or_buffer, sep, delimiter, header, names, index_col, usecols, squeeze, prefix, mangle_dupe_cols, dtype, engine, converters, true_values, false_values, skipinitialspace, skiprows, skipfooter, nrows, na_values, keep_default_na, na_filter, verbose, skip_blank_lines, parse_dates, infer_datetime_format, keep_date_col, date_parser, dayfirst, cache_dates, iterator, chunksize, compression, thousands, decimal, lineterminator, quotechar, quoting, doublequote, escapechar, comment, encoding, encoding_errors, dialect, error_bad_lines, warn_bad_lines, on_bad_lines, delim_whitespace, low_memory, memory_map, float_precision, storage_options)\u001b[0m\n\u001b[1;32m    948\u001b[0m     \u001b[0mkwds\u001b[0m\u001b[0;34m.\u001b[0m\u001b[0mupdate\u001b[0m\u001b[0;34m(\u001b[0m\u001b[0mkwds_defaults\u001b[0m\u001b[0;34m)\u001b[0m\u001b[0;34m\u001b[0m\u001b[0;34m\u001b[0m\u001b[0m\n\u001b[1;32m    949\u001b[0m \u001b[0;34m\u001b[0m\u001b[0m\n\u001b[0;32m--> 950\u001b[0;31m     \u001b[0;32mreturn\u001b[0m \u001b[0m_read\u001b[0m\u001b[0;34m(\u001b[0m\u001b[0mfilepath_or_buffer\u001b[0m\u001b[0;34m,\u001b[0m \u001b[0mkwds\u001b[0m\u001b[0;34m)\u001b[0m\u001b[0;34m\u001b[0m\u001b[0;34m\u001b[0m\u001b[0m\n\u001b[0m\u001b[1;32m    951\u001b[0m \u001b[0;34m\u001b[0m\u001b[0m\n\u001b[1;32m    952\u001b[0m \u001b[0;34m\u001b[0m\u001b[0m\n",
            "\u001b[0;32m/usr/local/lib/python3.10/dist-packages/pandas/io/parsers/readers.py\u001b[0m in \u001b[0;36m_read\u001b[0;34m(filepath_or_buffer, kwds)\u001b[0m\n\u001b[1;32m    603\u001b[0m \u001b[0;34m\u001b[0m\u001b[0m\n\u001b[1;32m    604\u001b[0m     \u001b[0;31m# Create the parser.\u001b[0m\u001b[0;34m\u001b[0m\u001b[0;34m\u001b[0m\u001b[0m\n\u001b[0;32m--> 605\u001b[0;31m     \u001b[0mparser\u001b[0m \u001b[0;34m=\u001b[0m \u001b[0mTextFileReader\u001b[0m\u001b[0;34m(\u001b[0m\u001b[0mfilepath_or_buffer\u001b[0m\u001b[0;34m,\u001b[0m \u001b[0;34m**\u001b[0m\u001b[0mkwds\u001b[0m\u001b[0;34m)\u001b[0m\u001b[0;34m\u001b[0m\u001b[0;34m\u001b[0m\u001b[0m\n\u001b[0m\u001b[1;32m    606\u001b[0m \u001b[0;34m\u001b[0m\u001b[0m\n\u001b[1;32m    607\u001b[0m     \u001b[0;32mif\u001b[0m \u001b[0mchunksize\u001b[0m \u001b[0;32mor\u001b[0m \u001b[0miterator\u001b[0m\u001b[0;34m:\u001b[0m\u001b[0;34m\u001b[0m\u001b[0;34m\u001b[0m\u001b[0m\n",
            "\u001b[0;32m/usr/local/lib/python3.10/dist-packages/pandas/io/parsers/readers.py\u001b[0m in \u001b[0;36m__init__\u001b[0;34m(self, f, engine, **kwds)\u001b[0m\n\u001b[1;32m   1440\u001b[0m \u001b[0;34m\u001b[0m\u001b[0m\n\u001b[1;32m   1441\u001b[0m         \u001b[0mself\u001b[0m\u001b[0;34m.\u001b[0m\u001b[0mhandles\u001b[0m\u001b[0;34m:\u001b[0m \u001b[0mIOHandles\u001b[0m \u001b[0;34m|\u001b[0m \u001b[0;32mNone\u001b[0m \u001b[0;34m=\u001b[0m \u001b[0;32mNone\u001b[0m\u001b[0;34m\u001b[0m\u001b[0;34m\u001b[0m\u001b[0m\n\u001b[0;32m-> 1442\u001b[0;31m         \u001b[0mself\u001b[0m\u001b[0;34m.\u001b[0m\u001b[0m_engine\u001b[0m \u001b[0;34m=\u001b[0m \u001b[0mself\u001b[0m\u001b[0;34m.\u001b[0m\u001b[0m_make_engine\u001b[0m\u001b[0;34m(\u001b[0m\u001b[0mf\u001b[0m\u001b[0;34m,\u001b[0m \u001b[0mself\u001b[0m\u001b[0;34m.\u001b[0m\u001b[0mengine\u001b[0m\u001b[0;34m)\u001b[0m\u001b[0;34m\u001b[0m\u001b[0;34m\u001b[0m\u001b[0m\n\u001b[0m\u001b[1;32m   1443\u001b[0m \u001b[0;34m\u001b[0m\u001b[0m\n\u001b[1;32m   1444\u001b[0m     \u001b[0;32mdef\u001b[0m \u001b[0mclose\u001b[0m\u001b[0;34m(\u001b[0m\u001b[0mself\u001b[0m\u001b[0;34m)\u001b[0m \u001b[0;34m->\u001b[0m \u001b[0;32mNone\u001b[0m\u001b[0;34m:\u001b[0m\u001b[0;34m\u001b[0m\u001b[0;34m\u001b[0m\u001b[0m\n",
            "\u001b[0;32m/usr/local/lib/python3.10/dist-packages/pandas/io/parsers/readers.py\u001b[0m in \u001b[0;36m_make_engine\u001b[0;34m(self, f, engine)\u001b[0m\n\u001b[1;32m   1733\u001b[0m                 \u001b[0;32mif\u001b[0m \u001b[0;34m\"b\"\u001b[0m \u001b[0;32mnot\u001b[0m \u001b[0;32min\u001b[0m \u001b[0mmode\u001b[0m\u001b[0;34m:\u001b[0m\u001b[0;34m\u001b[0m\u001b[0;34m\u001b[0m\u001b[0m\n\u001b[1;32m   1734\u001b[0m                     \u001b[0mmode\u001b[0m \u001b[0;34m+=\u001b[0m \u001b[0;34m\"b\"\u001b[0m\u001b[0;34m\u001b[0m\u001b[0;34m\u001b[0m\u001b[0m\n\u001b[0;32m-> 1735\u001b[0;31m             self.handles = get_handle(\n\u001b[0m\u001b[1;32m   1736\u001b[0m                 \u001b[0mf\u001b[0m\u001b[0;34m,\u001b[0m\u001b[0;34m\u001b[0m\u001b[0;34m\u001b[0m\u001b[0m\n\u001b[1;32m   1737\u001b[0m                 \u001b[0mmode\u001b[0m\u001b[0;34m,\u001b[0m\u001b[0;34m\u001b[0m\u001b[0;34m\u001b[0m\u001b[0m\n",
            "\u001b[0;32m/usr/local/lib/python3.10/dist-packages/pandas/io/common.py\u001b[0m in \u001b[0;36mget_handle\u001b[0;34m(path_or_buf, mode, encoding, compression, memory_map, is_text, errors, storage_options)\u001b[0m\n\u001b[1;32m    854\u001b[0m         \u001b[0;32mif\u001b[0m \u001b[0mioargs\u001b[0m\u001b[0;34m.\u001b[0m\u001b[0mencoding\u001b[0m \u001b[0;32mand\u001b[0m \u001b[0;34m\"b\"\u001b[0m \u001b[0;32mnot\u001b[0m \u001b[0;32min\u001b[0m \u001b[0mioargs\u001b[0m\u001b[0;34m.\u001b[0m\u001b[0mmode\u001b[0m\u001b[0;34m:\u001b[0m\u001b[0;34m\u001b[0m\u001b[0;34m\u001b[0m\u001b[0m\n\u001b[1;32m    855\u001b[0m             \u001b[0;31m# Encoding\u001b[0m\u001b[0;34m\u001b[0m\u001b[0;34m\u001b[0m\u001b[0m\n\u001b[0;32m--> 856\u001b[0;31m             handle = open(\n\u001b[0m\u001b[1;32m    857\u001b[0m                 \u001b[0mhandle\u001b[0m\u001b[0;34m,\u001b[0m\u001b[0;34m\u001b[0m\u001b[0;34m\u001b[0m\u001b[0m\n\u001b[1;32m    858\u001b[0m                 \u001b[0mioargs\u001b[0m\u001b[0;34m.\u001b[0m\u001b[0mmode\u001b[0m\u001b[0;34m,\u001b[0m\u001b[0;34m\u001b[0m\u001b[0;34m\u001b[0m\u001b[0m\n",
            "\u001b[0;31mFileNotFoundError\u001b[0m: [Errno 2] No such file or directory: '/content/drive/MyDrive/Colab Notebooks/tarea2/train.csv'"
          ]
        }
      ],
      "source": [
        "# utilice read_csv de pandas para leer los archivos extraidos\n",
        "import pandas as pd\n",
        "\n",
        "# Rutas de los archivos\n",
        "ruta_train = \"/content/drive/MyDrive/Colab Notebooks/tarea2/train.csv\"\n",
        "ruta_test = \"/content/drive/MyDrive/Colab Notebooks/tarea2/test.csv\"\n",
        "\n",
        "# Leer los archivos CSV y crear los DataFrames\n",
        "train_ds = pd.read_csv(ruta_train)\n",
        "test_ds = pd.read_csv(ruta_test)\n"
      ]
    },
    {
      "cell_type": "markdown",
      "id": "8c8baee6",
      "metadata": {
        "id": "8c8baee6"
      },
      "source": [
        "Observamos las primeras 5 líneas del archivo de training"
      ]
    },
    {
      "cell_type": "code",
      "execution_count": 9,
      "id": "cfb3ae88",
      "metadata": {
        "colab": {
          "base_uri": "https://localhost:8080/"
        },
        "id": "cfb3ae88",
        "outputId": "1ea5cd95-43ba-4ec3-f706-a831b213ce9d"
      },
      "outputs": [
        {
          "output_type": "stream",
          "name": "stdout",
          "text": [
            "  PassengerId HomePlanet CryoSleep  Cabin  Destination   Age    VIP  \\\n",
            "0     0001_01     Europa     False  B/0/P  TRAPPIST-1e  39.0  False   \n",
            "1     0002_01      Earth     False  F/0/S  TRAPPIST-1e  24.0  False   \n",
            "2     0003_01     Europa     False  A/0/S  TRAPPIST-1e  58.0   True   \n",
            "3     0003_02     Europa     False  A/0/S  TRAPPIST-1e  33.0  False   \n",
            "4     0004_01      Earth     False  F/1/S  TRAPPIST-1e  16.0  False   \n",
            "\n",
            "   RoomService  FoodCourt  ShoppingMall     Spa  VRDeck               Name  \\\n",
            "0          0.0        0.0           0.0     0.0     0.0    Maham Ofracculy   \n",
            "1        109.0        9.0          25.0   549.0    44.0       Juanna Vines   \n",
            "2         43.0     3576.0           0.0  6715.0    49.0      Altark Susent   \n",
            "3          0.0     1283.0         371.0  3329.0   193.0       Solam Susent   \n",
            "4        303.0       70.0         151.0   565.0     2.0  Willy Santantines   \n",
            "\n",
            "   Transported  \n",
            "0        False  \n",
            "1         True  \n",
            "2        False  \n",
            "3        False  \n",
            "4         True  \n"
          ]
        }
      ],
      "source": [
        "# con pandas, observe los primeros 5 datos con la funcion head()\n",
        "# Observar los primeros 5 datos del DataFrame train_ds\n",
        "print(train_ds.head())\n",
        "\n"
      ]
    },
    {
      "cell_type": "markdown",
      "id": "11642e11",
      "metadata": {
        "id": "11642e11"
      },
      "source": [
        "Observamos las primeras 5 lineas del archivo de test set.  Note que la columna **Transported** no esta en esta parte, es la columna que vamos a predecir, este caso es especial debido a que este dataset es de un concurso de kaggle."
      ]
    },
    {
      "cell_type": "code",
      "execution_count": 10,
      "id": "51ca1ee5",
      "metadata": {
        "colab": {
          "base_uri": "https://localhost:8080/"
        },
        "id": "51ca1ee5",
        "outputId": "16ec2eae-79d8-4786-9ae4-97fb6c61b1ec"
      },
      "outputs": [
        {
          "output_type": "stream",
          "name": "stdout",
          "text": [
            "  PassengerId HomePlanet CryoSleep  Cabin  Destination   Age    VIP  \\\n",
            "0     0013_01      Earth      True  G/3/S  TRAPPIST-1e  27.0  False   \n",
            "1     0018_01      Earth     False  F/4/S  TRAPPIST-1e  19.0  False   \n",
            "2     0019_01     Europa      True  C/0/S  55 Cancri e  31.0  False   \n",
            "3     0021_01     Europa     False  C/1/S  TRAPPIST-1e  38.0  False   \n",
            "4     0023_01      Earth     False  F/5/S  TRAPPIST-1e  20.0  False   \n",
            "\n",
            "   RoomService  FoodCourt  ShoppingMall     Spa  VRDeck              Name  \n",
            "0          0.0        0.0           0.0     0.0     0.0   Nelly Carsoning  \n",
            "1          0.0        9.0           0.0  2823.0     0.0    Lerome Peckers  \n",
            "2          0.0        0.0           0.0     0.0     0.0   Sabih Unhearfus  \n",
            "3          0.0     6652.0           0.0   181.0   585.0  Meratz Caltilter  \n",
            "4         10.0        0.0         635.0     0.0     0.0   Brence Harperez  \n"
          ]
        }
      ],
      "source": [
        "# con pandas, observe los primeros 5 datos del dataset de prueba\n",
        "# Observar los primeros 5 datos del DataFrame test_ds\n",
        "print(test_ds.head())\n"
      ]
    },
    {
      "cell_type": "markdown",
      "id": "183cce18",
      "metadata": {
        "id": "183cce18"
      },
      "source": [
        "Ahora hacemos un poco de analisis basico para saber cuantos datos tenemos de training y cuantos datos tenemos de test"
      ]
    },
    {
      "cell_type": "code",
      "execution_count": 11,
      "id": "b901ebe0",
      "metadata": {
        "colab": {
          "base_uri": "https://localhost:8080/"
        },
        "id": "b901ebe0",
        "outputId": "b8ce6d15-c4a0-437d-f84f-a8ef282edc32"
      },
      "outputs": [
        {
          "output_type": "stream",
          "name": "stdout",
          "text": [
            "Dataset has 8693 train samples\n",
            "Dataset has 4277 test samples\n"
          ]
        }
      ],
      "source": [
        "# Calcular la cantidad de filas en el training set\n",
        "ntrain = train_ds.shape[0]\n",
        "\n",
        "# Calcular la cantidad de filas en el test set\n",
        "ntest = test_ds.shape[0]\n",
        "\n",
        "# Imprimir la cantidad de datos en el training set y test set\n",
        "print(f'Dataset has {ntrain} train samples')\n",
        "print(f'Dataset has {ntest} test samples')\n"
      ]
    },
    {
      "cell_type": "markdown",
      "id": "ccc36c72",
      "metadata": {
        "id": "ccc36c72"
      },
      "source": [
        "Nos interesa tambien observar el tipo de datos del dataset"
      ]
    },
    {
      "cell_type": "code",
      "execution_count": 12,
      "id": "e641ce25",
      "metadata": {
        "colab": {
          "base_uri": "https://localhost:8080/"
        },
        "id": "e641ce25",
        "outputId": "f263f843-a822-4a47-ca43-85fc5ac8e135"
      },
      "outputs": [
        {
          "output_type": "stream",
          "name": "stdout",
          "text": [
            "<class 'pandas.core.frame.DataFrame'>\n",
            "RangeIndex: 8693 entries, 0 to 8692\n",
            "Data columns (total 14 columns):\n",
            " #   Column        Non-Null Count  Dtype  \n",
            "---  ------        --------------  -----  \n",
            " 0   PassengerId   8693 non-null   object \n",
            " 1   HomePlanet    8492 non-null   object \n",
            " 2   CryoSleep     8476 non-null   object \n",
            " 3   Cabin         8494 non-null   object \n",
            " 4   Destination   8511 non-null   object \n",
            " 5   Age           8514 non-null   float64\n",
            " 6   VIP           8490 non-null   object \n",
            " 7   RoomService   8512 non-null   float64\n",
            " 8   FoodCourt     8510 non-null   float64\n",
            " 9   ShoppingMall  8485 non-null   float64\n",
            " 10  Spa           8510 non-null   float64\n",
            " 11  VRDeck        8505 non-null   float64\n",
            " 12  Name          8493 non-null   object \n",
            " 13  Transported   8693 non-null   bool   \n",
            "dtypes: bool(1), float64(6), object(7)\n",
            "memory usage: 891.5+ KB\n",
            "<class 'pandas.core.frame.DataFrame'>\n",
            "RangeIndex: 4277 entries, 0 to 4276\n",
            "Data columns (total 13 columns):\n",
            " #   Column        Non-Null Count  Dtype  \n",
            "---  ------        --------------  -----  \n",
            " 0   PassengerId   4277 non-null   object \n",
            " 1   HomePlanet    4190 non-null   object \n",
            " 2   CryoSleep     4184 non-null   object \n",
            " 3   Cabin         4177 non-null   object \n",
            " 4   Destination   4185 non-null   object \n",
            " 5   Age           4186 non-null   float64\n",
            " 6   VIP           4184 non-null   object \n",
            " 7   RoomService   4195 non-null   float64\n",
            " 8   FoodCourt     4171 non-null   float64\n",
            " 9   ShoppingMall  4179 non-null   float64\n",
            " 10  Spa           4176 non-null   float64\n",
            " 11  VRDeck        4197 non-null   float64\n",
            " 12  Name          4183 non-null   object \n",
            "dtypes: float64(6), object(7)\n",
            "memory usage: 434.5+ KB\n"
          ]
        }
      ],
      "source": [
        "# con info() verifique cuales son los tipos de columnas\n",
        "# Verificar los tipos de columnas en el training set\n",
        "train_ds.info()\n",
        "\n",
        "# Verificar los tipos de columnas en el test set\n",
        "test_ds.info()\n"
      ]
    },
    {
      "cell_type": "markdown",
      "id": "6b312b93",
      "metadata": {
        "id": "6b312b93"
      },
      "source": [
        "Revisamos tambien si poseemos valores nulos"
      ]
    },
    {
      "cell_type": "code",
      "execution_count": 13,
      "id": "809c956e",
      "metadata": {
        "colab": {
          "base_uri": "https://localhost:8080/"
        },
        "id": "809c956e",
        "outputId": "359e1336-facf-46bf-f44e-63d1efc0f383"
      },
      "outputs": [
        {
          "output_type": "stream",
          "name": "stdout",
          "text": [
            "Campos nulos en el training set:\n",
            "PassengerId       0\n",
            "HomePlanet      201\n",
            "CryoSleep       217\n",
            "Cabin           199\n",
            "Destination     182\n",
            "Age             179\n",
            "VIP             203\n",
            "RoomService     181\n",
            "FoodCourt       183\n",
            "ShoppingMall    208\n",
            "Spa             183\n",
            "VRDeck          188\n",
            "Name            200\n",
            "Transported       0\n",
            "dtype: int64\n"
          ]
        }
      ],
      "source": [
        "# revise si existen campos nulos en el training set con isnull y sum\n",
        "# Verificar campos nulos en el training set\n",
        "null_counts_train = train_ds.isnull().sum()\n",
        "\n",
        "# Imprimir la cantidad de campos nulos en el training set\n",
        "print(\"Campos nulos en el training set:\")\n",
        "print(null_counts_train)\n"
      ]
    },
    {
      "cell_type": "markdown",
      "id": "3fefa2e2",
      "metadata": {
        "id": "3fefa2e2"
      },
      "source": [
        "Damos una funcion basica de imputacion de datos, este busca los datos nulos y los reemplaza por el dato mas frecuente, hay otras maneras de preprocesar datos como por valores medios, anteriores, etc."
      ]
    },
    {
      "cell_type": "code",
      "execution_count": 14,
      "id": "356fb63a",
      "metadata": {
        "id": "356fb63a"
      },
      "outputs": [],
      "source": [
        "# funcion que realiza los reemplazos del dato mas frecuente en la columna (imputer)\n",
        "def impute_most_frequent_data(df):\n",
        "    for column_name in df.columns:\n",
        "        data = df[column_name].value_counts().index[0]\n",
        "        df[column_name].fillna(data, inplace=True)\n",
        "    return df\n"
      ]
    },
    {
      "cell_type": "markdown",
      "id": "ff7639de",
      "metadata": {
        "id": "ff7639de"
      },
      "source": [
        "Llamamos la funcion contra el train_ds"
      ]
    },
    {
      "cell_type": "code",
      "execution_count": 15,
      "id": "895be45a",
      "metadata": {
        "colab": {
          "base_uri": "https://localhost:8080/"
        },
        "id": "895be45a",
        "outputId": "2d30de2a-ae90-408f-b62f-6e51c8a9350a"
      },
      "outputs": [
        {
          "output_type": "stream",
          "name": "stdout",
          "text": [
            "  PassengerId HomePlanet  CryoSleep  Cabin  Destination   Age    VIP  \\\n",
            "0     0001_01     Europa      False  B/0/P  TRAPPIST-1e  39.0  False   \n",
            "1     0002_01      Earth      False  F/0/S  TRAPPIST-1e  24.0  False   \n",
            "2     0003_01     Europa      False  A/0/S  TRAPPIST-1e  58.0   True   \n",
            "3     0003_02     Europa      False  A/0/S  TRAPPIST-1e  33.0  False   \n",
            "4     0004_01      Earth      False  F/1/S  TRAPPIST-1e  16.0  False   \n",
            "\n",
            "   RoomService  FoodCourt  ShoppingMall     Spa  VRDeck               Name  \\\n",
            "0          0.0        0.0           0.0     0.0     0.0    Maham Ofracculy   \n",
            "1        109.0        9.0          25.0   549.0    44.0       Juanna Vines   \n",
            "2         43.0     3576.0           0.0  6715.0    49.0      Altark Susent   \n",
            "3          0.0     1283.0         371.0  3329.0   193.0       Solam Susent   \n",
            "4        303.0       70.0         151.0   565.0     2.0  Willy Santantines   \n",
            "\n",
            "   Transported  \n",
            "0        False  \n",
            "1         True  \n",
            "2        False  \n",
            "3        False  \n",
            "4         True  \n"
          ]
        }
      ],
      "source": [
        "# llame la funcion contra el training set\n",
        "# Llamar a la función para imputar los valores nulos en el training set\n",
        "train_ds = impute_most_frequent_data(train_ds)\n",
        "\n",
        "# Mostrar los primeros 5 datos del training set después de la imputación\n",
        "print(train_ds.head())\n"
      ]
    },
    {
      "cell_type": "markdown",
      "id": "a3303f55",
      "metadata": {
        "id": "a3303f55"
      },
      "source": [
        "Revisamos nuevamente si poseemos valores nulos"
      ]
    },
    {
      "cell_type": "code",
      "execution_count": 16,
      "id": "cd8d11d6",
      "metadata": {
        "colab": {
          "base_uri": "https://localhost:8080/"
        },
        "id": "cd8d11d6",
        "outputId": "80d0d573-da43-483c-a320-ced3464c3118"
      },
      "outputs": [
        {
          "output_type": "stream",
          "name": "stdout",
          "text": [
            "Campos nulos en el training set después de la imputación:\n",
            "PassengerId     0\n",
            "HomePlanet      0\n",
            "CryoSleep       0\n",
            "Cabin           0\n",
            "Destination     0\n",
            "Age             0\n",
            "VIP             0\n",
            "RoomService     0\n",
            "FoodCourt       0\n",
            "ShoppingMall    0\n",
            "Spa             0\n",
            "VRDeck          0\n",
            "Name            0\n",
            "Transported     0\n",
            "dtype: int64\n"
          ]
        }
      ],
      "source": [
        "# valide nuevamente si existen campos nulos\n",
        "# Verificar campos nulos en el training set después de la imputación\n",
        "null_counts_train = train_ds.isnull().sum()\n",
        "\n",
        "# Imprimir la cantidad de campos nulos en el training set después de la imputación\n",
        "print(\"Campos nulos en el training set después de la imputación:\")\n",
        "print(null_counts_train)\n"
      ]
    },
    {
      "cell_type": "markdown",
      "id": "a1224b3d",
      "metadata": {
        "id": "a1224b3d"
      },
      "source": [
        "Agrupamos por las columnas 'HomePlanet' y 'VIP' y realizamos la suma de los datos para saber la frecuencia"
      ]
    },
    {
      "cell_type": "code",
      "execution_count": 17,
      "id": "13677ec7",
      "metadata": {
        "colab": {
          "base_uri": "https://localhost:8080/"
        },
        "id": "13677ec7",
        "outputId": "593800dc-d888-4745-a3dc-15170224dc2c"
      },
      "outputs": [
        {
          "output_type": "stream",
          "name": "stdout",
          "text": [
            "HomePlanet  VIP  \n",
            "Earth       False      0\n",
            "            True       5\n",
            "Europa      False      0\n",
            "            True     131\n",
            "Mars        False      0\n",
            "            True      63\n",
            "Name: VIP, dtype: int64\n"
          ]
        }
      ],
      "source": [
        "# Agrupe por planeta y adquiera la columna VIP\n",
        "home_planet_vs_vip = train_ds.groupby(['HomePlanet', 'VIP'])['VIP'].sum()\n",
        "\n",
        "# Imprimir el resultado\n",
        "print(home_planet_vs_vip)\n"
      ]
    },
    {
      "cell_type": "markdown",
      "id": "38c96caf",
      "metadata": {
        "id": "38c96caf"
      },
      "source": [
        "Realizamos una visualziación básica de gráfico de barras para ver los datos anteriores de una manera mas manejable"
      ]
    },
    {
      "cell_type": "code",
      "execution_count": 19,
      "id": "97f75a77",
      "metadata": {
        "colab": {
          "base_uri": "https://localhost:8080/",
          "height": 495
        },
        "id": "97f75a77",
        "outputId": "202c3c52-a029-4818-b5c9-b105a31a2c7a"
      },
      "outputs": [
        {
          "output_type": "stream",
          "name": "stderr",
          "text": [
            "<ipython-input-19-d09b40440389>:11: UserWarning: FixedFormatter should only be used together with FixedLocator\n",
            "  ax.set_xticklabels(home_planet_vs_vip.index.get_level_values('HomePlanet'), rotation=45)\n"
          ]
        },
        {
          "output_type": "display_data",
          "data": {
            "text/plain": [
              "<Figure size 640x480 with 1 Axes>"
            ],
            "image/png": "[encoded data removed]"
          },
          "metadata": {}
        }
      ],
      "source": [
        "# Genere un grafico de barras donde\n",
        "# x = 'HomePlanet'\n",
        "# y = cantidade de personas que fueron VIP\n",
        "# rote los labels a 45°\n",
        "\n",
        "%matplotlib inline\n",
        "import matplotlib.pyplot as plt\n",
        "\n",
        "fig, ax = plt.subplots()\n",
        "ax.bar(home_planet_vs_vip.index.get_level_values('HomePlanet'), home_planet_vs_vip.values)\n",
        "ax.set_xticklabels(home_planet_vs_vip.index.get_level_values('HomePlanet'), rotation=45)\n",
        "ax.set_ylabel(\"How many of Each Planet are VIP people\")\n",
        "plt.show()\n"
      ]
    },
    {
      "cell_type": "markdown",
      "id": "058dfa54",
      "metadata": {
        "id": "058dfa54"
      },
      "source": [
        "Agrupamos por edad y tambien todas las columnas numericas, sumamos para saber cuanto gastaron por rango de edad"
      ]
    },
    {
      "cell_type": "code",
      "execution_count": 20,
      "id": "f564b202",
      "metadata": {
        "colab": {
          "base_uri": "https://localhost:8080/"
        },
        "id": "f564b202",
        "outputId": "e8d4407d-35e6-4a94-aa94-0f307f8746c9"
      },
      "outputs": [
        {
          "output_type": "stream",
          "name": "stdout",
          "text": [
            "      RoomService  FoodCourt  ShoppingMall     Spa  VRDeck\n",
            "Age                                                       \n",
            "0.0           0.0        0.0           0.0     0.0     0.0\n",
            "1.0           0.0        0.0           0.0     0.0     0.0\n",
            "2.0           0.0        0.0           0.0     0.0     0.0\n",
            "3.0           0.0        0.0           0.0     0.0     0.0\n",
            "4.0           0.0        0.0           0.0     0.0     0.0\n",
            "...           ...        ...           ...     ...     ...\n",
            "74.0        568.0       17.0           0.0     0.0     1.0\n",
            "75.0        940.0        0.0           0.0  1188.0    60.0\n",
            "77.0          0.0        0.0          64.0   712.0     0.0\n",
            "78.0          0.0        0.0           0.0     0.0     0.0\n",
            "79.0          0.0       53.0         881.0    11.0  1568.0\n",
            "\n",
            "[79 rows x 5 columns]\n"
          ]
        },
        {
          "output_type": "stream",
          "name": "stderr",
          "text": [
            "<ipython-input-20-7b8c5f51a785>:3: FutureWarning: Indexing with multiple keys (implicitly converted to a tuple of keys) will be deprecated, use a list instead.\n",
            "  gastos_por_edad = test_ds.groupby('Age')['RoomService', 'FoodCourt', 'ShoppingMall', 'Spa', 'VRDeck'].sum()\n"
          ]
        }
      ],
      "source": [
        "# agrupe por edad y sume para saber cuanto por rango de edad gastaron cada uno\n",
        "# Agrupar por todas las edades y sumar los gastos\n",
        "gastos_por_edad = test_ds.groupby('Age')['RoomService', 'FoodCourt', 'ShoppingMall', 'Spa', 'VRDeck'].sum()\n",
        "# Imprimir el resultado\n",
        "print(gastos_por_edad)\n"
      ]
    },
    {
      "cell_type": "markdown",
      "id": "6a302660",
      "metadata": {
        "id": "6a302660"
      },
      "source": [
        "Realizamos un gráfico de dispersión para ver cuanto gastan por edad"
      ]
    },
    {
      "cell_type": "code",
      "execution_count": 21,
      "id": "012051c5",
      "metadata": {
        "colab": {
          "base_uri": "https://localhost:8080/",
          "height": 542
        },
        "id": "012051c5",
        "outputId": "fe279465-e5f9-4a43-b177-735a03e64e93"
      },
      "outputs": [
        {
          "output_type": "display_data",
          "data": {
            "text/plain": [
              "<Figure size 1000x600 with 1 Axes>"
            ],
            "image/png": "[encoded data removed]"
          },
          "metadata": {}
        }
      ],
      "source": [
        "fig, ax = plt.subplots(figsize=(10,6))\n",
        "for i in range(len(gastos_por_edad.columns)-2):\n",
        "    ax.scatter(gastos_por_edad.index, gastos_por_edad.iloc[:, i], alpha=0.8)\n",
        "    ax.legend(gastos_por_edad.columns[:-2])\n",
        "ax.set_xlabel(\"Age\")\n",
        "ax.set_xticks(ticks=range(0, 80), minor=True)\n",
        "ax.set_ylabel(\"Quantity of Money Spent\")\n",
        "ax.grid()\n",
        "\n",
        "plt.show()\n"
      ]
    },
    {
      "cell_type": "markdown",
      "id": "e5f00dda",
      "metadata": {
        "id": "e5f00dda"
      },
      "source": [
        "Realizamos un grafico de histograma para ver la distribución de destinos contra las observaciones"
      ]
    },
    {
      "cell_type": "code",
      "execution_count": 22,
      "id": "361a58ce",
      "metadata": {
        "colab": {
          "base_uri": "https://localhost:8080/",
          "height": 449
        },
        "id": "361a58ce",
        "outputId": "0203e8ae-9d05-4564-96eb-dd09afb40126"
      },
      "outputs": [
        {
          "output_type": "display_data",
          "data": {
            "text/plain": [
              "<Figure size 640x480 with 1 Axes>"
            ],
            "image/png": "[encoded data removed]"
          },
          "metadata": {}
        }
      ],
      "source": [
        "# realice un grafico de histograma para los destinos versus las características\n",
        "fig, ax = plt.subplots()\n",
        "ax.hist(train_ds['Destination'], label=\"Destination\", color='gray')\n",
        "ax.set_xlabel(\"Destination\")\n",
        "ax.set_ylabel(\"# of observations\")\n",
        "ax.legend()\n",
        "plt.show()\n"
      ]
    },
    {
      "cell_type": "markdown",
      "id": "8e2976d3",
      "metadata": {
        "id": "8e2976d3"
      },
      "source": [
        "### Machine Learning"
      ]
    },
    {
      "cell_type": "markdown",
      "id": "3b2fab00",
      "metadata": {
        "id": "3b2fab00"
      },
      "source": [
        "Realizaremos un modelo de machine learning sencillo, pero primero necesitamos componer los datos categoricos a numericos.  La mayoria de los problemas de machine learning utilizan datos numericos o boleanos para realizar sus algoritmos"
      ]
    },
    {
      "cell_type": "markdown",
      "id": "abc302ed",
      "metadata": {
        "id": "abc302ed"
      },
      "source": [
        "Primeramente importamos OneHotEncoder para codificar las columans"
      ]
    },
    {
      "cell_type": "code",
      "execution_count": 23,
      "id": "43fc9cdd",
      "metadata": {
        "id": "43fc9cdd"
      },
      "outputs": [],
      "source": [
        "# de sklearn la librería preprocessing importe OneHotEncoder\n",
        "from sklearn.preprocessing import OneHotEncoder"
      ]
    },
    {
      "cell_type": "markdown",
      "id": "7e619e07",
      "metadata": {
        "id": "7e619e07"
      },
      "source": [
        "Ayudamos a realizar una función de encoding de las columnas"
      ]
    },
    {
      "cell_type": "code",
      "execution_count": 3,
      "id": "f499e087",
      "metadata": {
        "id": "f499e087"
      },
      "outputs": [],
      "source": [
        "# llame a la funcion utilizando el traning set y listando las librerías categoricas 'HomePlanet' y 'Destination'\n",
        "def column_transform(df, categorical_columns):\n",
        "    for col in categorical_columns:\n",
        "        col_ohe = pd.get_dummies(df[col], prefix=col)\n",
        "        df = pd.concat((df, col_ohe), axis=1).drop(col, axis=1)\n",
        "    return df"
      ]
    },
    {
      "cell_type": "markdown",
      "id": "eb5c914c",
      "metadata": {
        "id": "eb5c914c"
      },
      "source": [
        "Asigne a train_ds_ohe la funcion y los datos categoricos a filtrar"
      ]
    },
    {
      "cell_type": "code",
      "execution_count": 4,
      "id": "00ce7d19",
      "metadata": {
        "colab": {
          "base_uri": "https://localhost:8080/",
          "height": 183
        },
        "id": "00ce7d19",
        "outputId": "031dc828-c541-4214-cf0f-58185e2a2246"
      },
      "outputs": [
        {
          "output_type": "error",
          "ename": "NameError",
          "evalue": "ignored",
          "traceback": [
            "\u001b[0;31m---------------------------------------------------------------------------\u001b[0m",
            "\u001b[0;31mNameError\u001b[0m                                 Traceback (most recent call last)",
            "\u001b[0;32m<ipython-input-4-38d73a08ae19>\u001b[0m in \u001b[0;36m<cell line: 1>\u001b[0;34m()\u001b[0m\n\u001b[0;32m----> 1\u001b[0;31m \u001b[0mtrain_ds_ohe\u001b[0m \u001b[0;34m=\u001b[0m \u001b[0mcolumn_transform\u001b[0m\u001b[0;34m(\u001b[0m\u001b[0mdf\u001b[0m\u001b[0;34m=\u001b[0m\u001b[0mtrain_ds\u001b[0m\u001b[0;34m,\u001b[0m \u001b[0mcategorical_columns\u001b[0m\u001b[0;34m=\u001b[0m\u001b[0;34m[\u001b[0m\u001b[0;34m'HomePlanet'\u001b[0m\u001b[0;34m,\u001b[0m \u001b[0;34m'Destination'\u001b[0m\u001b[0;34m]\u001b[0m\u001b[0;34m)\u001b[0m\u001b[0;34m\u001b[0m\u001b[0;34m\u001b[0m\u001b[0m\n\u001b[0m\u001b[1;32m      2\u001b[0m \u001b[0mprint\u001b[0m\u001b[0;34m(\u001b[0m\u001b[0mtrain_ds_ohe\u001b[0m\u001b[0;34m.\u001b[0m\u001b[0mhead\u001b[0m\u001b[0;34m(\u001b[0m\u001b[0;34m)\u001b[0m\u001b[0;34m)\u001b[0m\u001b[0;34m\u001b[0m\u001b[0;34m\u001b[0m\u001b[0m\n",
            "\u001b[0;31mNameError\u001b[0m: name 'train_ds' is not defined"
          ]
        }
      ],
      "source": [
        "train_ds_ohe = column_transform(df=train_ds, categorical_columns=['HomePlanet', 'Destination'])\n",
        "print(train_ds_ohe.head())"
      ]
    },
    {
      "cell_type": "markdown",
      "id": "2b93dbea",
      "metadata": {
        "id": "2b93dbea"
      },
      "source": [
        "Realice la asignacion de las caracteristicas a la variable 'X' y el objetivo a encontrar a la variable 'y', en este caso son las personas transportadas"
      ]
    },
    {
      "cell_type": "code",
      "execution_count": null,
      "id": "bcc805b4",
      "metadata": {
        "id": "bcc805b4"
      },
      "outputs": [],
      "source": [
        "# Eliminar las columnas 'PassengerId', 'Cabin', 'Name' y 'Transported' de train_ds_ohe\n",
        "X = train_ds_ohe.drop(['PassengerId', 'Cabin', 'Name', 'Transported'], axis=1)\n",
        "\n",
        "# Asignar la columna 'Transported' de train_ds_ohe a la variable y\n",
        "y = train_ds_ohe['Transported']\n"
      ]
    },
    {
      "cell_type": "markdown",
      "id": "ab9e4dda",
      "metadata": {
        "id": "ab9e4dda"
      },
      "source": [
        "Importamos nuevas librerias necesarias y funciones"
      ]
    },
    {
      "cell_type": "code",
      "execution_count": 8,
      "id": "df02553d",
      "metadata": {
        "id": "df02553d"
      },
      "outputs": [],
      "source": [
        "# de sklearn linear_model importe SGDClassifier\n",
        "from sklearn.linear_model import SGDClassifier\n",
        "# de sklearn preprocessing importe StandardScaler y make_pipeline\n",
        "from sklearn.preprocessing import StandardScaler\n",
        "from sklearn.pipeline import make_pipeline"
      ]
    },
    {
      "cell_type": "markdown",
      "id": "69826fb8",
      "metadata": {
        "id": "69826fb8"
      },
      "source": [
        "Realizamos un clasificador"
      ]
    },
    {
      "cell_type": "code",
      "execution_count": null,
      "id": "eec38610",
      "metadata": {
        "id": "eec38610",
        "outputId": "4707c98b-0094-4ab0-a96d-f415f74e1116"
      },
      "outputs": [
        {
          "data": {
            "text/plain": [
              "Pipeline(steps=[('standardscaler', StandardScaler()),\n",
              "                ('sgdclassifier', SGDClassifier())])"
            ]
          },
          "execution_count": 24,
          "metadata": {},
          "output_type": "execute_result"
        }
      ],
      "source": [
        "from sklearn.linear_model import SGDClassifier\n",
        "from sklearn.preprocessing import StandardScaler\n",
        "from sklearn.pipeline import make_pipeline\n",
        "\n",
        "# Llamar a make_pipeline con StandardScaler() y SGDClassifier con max_iter=1000, tol=1e-3\n",
        "clf = make_pipeline(StandardScaler(), SGDClassifier(max_iter=1000, tol=1e-3))\n",
        "\n",
        "# Llamar al método fit() del clasificador para entrenar el modelo\n",
        "clf.fit(X, y)\n"
      ]
    },
    {
      "cell_type": "markdown",
      "id": "64b9ce1e",
      "metadata": {
        "id": "64b9ce1e"
      },
      "source": [
        "Antes de realizar predicciones tenemos que preprocesar la entrada, lo único que no tenemso que hacer es volver a escalar la información con StandardScaler debido a que el modelo lo hace por nosotros."
      ]
    },
    {
      "cell_type": "code",
      "execution_count": null,
      "id": "a294b4b3",
      "metadata": {
        "id": "a294b4b3"
      },
      "outputs": [],
      "source": [
        "# funcion para preprocesar la data antes de realizar predicciones, note que no hacemos escalamientos\n",
        "def preprocess_test_set(test_df):\n",
        "    test_df = column_transform(df=test_df, categorical_columns=['HomePlanet','Destination'])\n",
        "    test_df = test_df.drop(['PassengerId', 'Cabin', 'Name'], axis=1)\n",
        "    return impute_most_frequent_data(test_df)"
      ]
    },
    {
      "cell_type": "markdown",
      "id": "5208e57a",
      "metadata": {
        "id": "5208e57a"
      },
      "source": [
        "Realizamos el llamado de la funcion anterior con el argumento del test dataset"
      ]
    },
    {
      "cell_type": "code",
      "execution_count": null,
      "id": "66de3f45",
      "metadata": {
        "id": "66de3f45"
      },
      "outputs": [],
      "source": [
        "# llame la funcion anterior con el test dataset\n",
        "test_data = preprocess_test_set(test_df)"
      ]
    },
    {
      "cell_type": "markdown",
      "id": "414107dc",
      "metadata": {
        "id": "414107dc"
      },
      "source": [
        "Calculamos las predicciones"
      ]
    },
    {
      "cell_type": "code",
      "execution_count": null,
      "id": "67053935",
      "metadata": {
        "id": "67053935"
      },
      "outputs": [],
      "source": [
        "# calcule las predicciones del clasificador con el metodo predict\n",
        "y_pred = clf.predict(test_data)"
      ]
    },
    {
      "cell_type": "markdown",
      "id": "2d8bbf2b",
      "metadata": {
        "id": "2d8bbf2b"
      },
      "source": [
        "Ahora imprimimos de alguna manear para contar cuantas fueron predicciones o personas que llegaron al destino o no"
      ]
    },
    {
      "cell_type": "code",
      "execution_count": null,
      "id": "bfac300d",
      "metadata": {
        "id": "bfac300d",
        "outputId": "25a0e4c6-e05d-4c9d-e670-a0918f419416"
      },
      "outputs": [
        {
          "data": {
            "text/plain": [
              "True     2385\n",
              "False    1892\n",
              "dtype: int64"
            ]
          },
          "execution_count": 28,
          "metadata": {},
          "output_type": "execute_result"
        }
      ],
      "source": [
        "# transforme las predicciones en un dataframe y calcule cuantas predicciones\n",
        "# fueron pasajeros transportados y cuales no fueron transportados\n",
        "import pandas as pd\n",
        "\n",
        "# Crear un DataFrame con las predicciones\n",
        "predictions_df = pd.DataFrame({'PassengerId': test_data['PassengerId'], 'Transported': y_pred})\n",
        "\n",
        "# Calcular la cantidad de predicciones de pasajeros transportados y no transportados\n",
        "count_transported = predictions_df['Transported'].sum()\n",
        "count_not_transported = len(predictions_df) - count_transported\n",
        "\n",
        "# Imprimir los resultados\n",
        "print(\"Cantidad de predicciones de pasajeros transportados:\", count_transported)\n",
        "print(\"Cantidad de predicciones de pasajeros no transportados:\", count_not_transported)\n"
      ]
    },
    {
      "cell_type": "code",
      "source": [
        "from google.colab import drive\n",
        "drive.mount('/content/drive')"
      ],
      "metadata": {
        "colab": {
          "base_uri": "https://localhost:8080/"
        },
        "id": "YhlWXVeadRtV",
        "outputId": "3060e082-9a98-4f00-a4d7-875fee3701e8"
      },
      "id": "YhlWXVeadRtV",
      "execution_count": 9,
      "outputs": [
        {
          "output_type": "stream",
          "name": "stdout",
          "text": [
            "Mounted at /content/drive\n"
          ]
        }
      ]
    },
    {
      "cell_type": "markdown",
      "id": "81f94bab",
      "metadata": {
        "id": "81f94bab"
      },
      "source": [
        "Hasta este punto solo hemos visto como preprocesar la data y realizar un modelo.  \n",
        "\n",
        "Adicionalmente como preprocesar la data de salida antes de consumir a un modelo.  No hemos visto aún como guardar o recargar un modelo y también como podemos ajustarlo y tener mejores métricas.\n",
        "\n",
        "Lo anteriormente dicho lo veremos cuando estemos realizando el laboratorio 1."
      ]
    }
  ],
  "metadata": {
    "kernelspec": {
      "display_name": "Python 3",
      "language": "python",
      "name": "python3"
    },
    "language_info": {
      "codemirror_mode": {
        "name": "ipython",
        "version": 3
      },
      "file_extension": ".py",
      "mimetype": "text/x-python",
      "name": "python",
      "nbconvert_exporter": "python",
      "pygments_lexer": "ipython3",
      "version": "3.8.8"
    },
    "colab": {
      "provenance": []
    }
  },
  "nbformat": 4,
  "nbformat_minor": 5
}